{
 "cells": [
  {
   "cell_type": "code",
   "execution_count": 2,
   "metadata": {},
   "outputs": [],
   "source": [
    "from skimage.metrics import structural_similarity as ssim\n",
    "from skimage.metrics import peak_signal_noise_ratio as psnr\n",
    "import cv2\n",
    "from rembg import remove \n",
    "from PIL import Image "
   ]
  },
  {
   "cell_type": "code",
   "execution_count": 3,
   "metadata": {},
   "outputs": [],
   "source": [
    "#The SSIM score ranges from -1 to 1, with 1 indicating perfect similarity. \n",
    "#The PSNR score is typically expressed in decibels (dB), and higher values indicate better similarity.\n",
    "Real_Image_path = \"d:/Study Materials/4-2/paint like any painter/Image_data/photo_jpg\"\n",
    "VGG_Generated_Image_path = \"d:/Study Materials/4-2/paint like any painter/monet_jpggenerated\"\n",
    "cycleGAN_Image_path = \"d:/Study Materials/4-2/paint like any painter/generated_images\"\n",
    "Resnet_image_path = \"d:/Study Materials/4-2/paint like any painter/out.jpg\"\n",
    "real_image = cv2.imread(Real_Image_path+ \"/1.jpg\")\n",
    "generated = cv2.imread(VGG_Generated_Image_path + \"/1.jpg\")\n",
    "resnet = cv2.imread(Resnet_image_path)\n",
    "input = Image.open(cycleGAN_Image_path + \"/1.png\")\n",
    "cgan = remove(input)\n",
    "input = input.convert(\"RGB\")\n",
    "input.save(cycleGAN_Image_path + \"/1.jpg\", \"JPEG\")\n",
    "cycleGAN = cv2.imread(cycleGAN_Image_path + \"/1.jpg\")"
   ]
  },
  {
   "cell_type": "code",
   "execution_count": 4,
   "metadata": {},
   "outputs": [],
   "source": [
    "# Resize images to 256x256\n",
    "real_image = cv2.resize(real_image, (256, 256))\n",
    "generated = cv2.resize(generated, (256, 256))\n",
    "cyclegan = cv2.resize(cycleGAN, (256, 256))\n",
    "resnet = cv2.resize(resnet,(256,256))"
   ]
  },
  {
   "cell_type": "code",
   "execution_count": 5,
   "metadata": {},
   "outputs": [],
   "source": [
    "\n",
    "# Convert images to grayscale if necessary\n",
    "gray_image_real = cv2.cvtColor(real_image, cv2.COLOR_BGR2GRAY)\n",
    "gray_image_vgg = cv2.cvtColor(generated, cv2.COLOR_BGR2GRAY)\n",
    "gray_image_cgan = cv2.cvtColor(cyclegan, cv2.COLOR_BGR2GRAY)\n",
    "gray_image_resnet = cv2.cvtColor(resnet, cv2.COLOR_BGR2GRAY)\n"
   ]
  },
  {
   "cell_type": "code",
   "execution_count": 6,
   "metadata": {},
   "outputs": [],
   "source": [
    "# Compute SSIM (Structural Similarity Index)\n",
    "ssim_score              = ssim(gray_image_real, gray_image_vgg)\n",
    "ssim_score_gen_style    = ssim(gray_image_real, gray_image_cgan)\n",
    "ssim_score_resnet       = ssim(gray_image_real, gray_image_resnet)"
   ]
  },
  {
   "cell_type": "code",
   "execution_count": 7,
   "metadata": {},
   "outputs": [],
   "source": [
    "# Compute PSNR (Peak Signal-to-Noise Ratio)\n",
    "psnr_score = psnr(gray_image_real, gray_image_vgg)\n",
    "psnr_score_gen_style = psnr(gray_image_real, gray_image_cgan)\n",
    "ssim_score_resnet       = psnr(gray_image_real, gray_image_resnet)"
   ]
  },
  {
   "cell_type": "code",
   "execution_count": 8,
   "metadata": {},
   "outputs": [
    {
     "name": "stdout",
     "output_type": "stream",
     "text": [
      "SSIM Score between Real and VGG_Generated Image: 0.3010899125922963\n",
      "SSIM Score between Real and CycleGAN Image:      0.17588780697457163\n"
     ]
    }
   ],
   "source": [
    "print(f\"SSIM Score between Real and VGG_Generated Image: {ssim_score}\")\n",
    "print(f\"SSIM Score between Real and CycleGAN Image:      {ssim_score_gen_style}\")"
   ]
  },
  {
   "cell_type": "code",
   "execution_count": 9,
   "metadata": {},
   "outputs": [
    {
     "name": "stdout",
     "output_type": "stream",
     "text": [
      "PSNR Score between Real and VGG_Generated Image: 15.041879644128112\n",
      "PSNR Score between Real and CycleGAN Image:      6.998422475750586\n"
     ]
    }
   ],
   "source": [
    "print(f\"PSNR Score between Real and VGG_Generated Image: {psnr_score}\")\n",
    "print(f\"PSNR Score between Real and CycleGAN Image:      {psnr_score_gen_style}\")"
   ]
  }
 ],
 "metadata": {
  "kernelspec": {
   "display_name": "Python 3",
   "language": "python",
   "name": "python3"
  },
  "language_info": {
   "codemirror_mode": {
    "name": "ipython",
    "version": 3
   },
   "file_extension": ".py",
   "mimetype": "text/x-python",
   "name": "python",
   "nbconvert_exporter": "python",
   "pygments_lexer": "ipython3",
   "version": "3.11.4"
  },
  "orig_nbformat": 4
 },
 "nbformat": 4,
 "nbformat_minor": 2
}
