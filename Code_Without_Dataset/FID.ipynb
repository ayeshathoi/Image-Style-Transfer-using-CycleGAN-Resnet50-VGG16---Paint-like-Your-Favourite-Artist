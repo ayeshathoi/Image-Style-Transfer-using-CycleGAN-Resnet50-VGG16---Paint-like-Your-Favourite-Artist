{
 "cells": [
  {
   "cell_type": "code",
   "execution_count": 1,
   "metadata": {},
   "outputs": [
    {
     "name": "stdout",
     "output_type": "stream",
     "text": [
      "WARNING:tensorflow:From c:\\Users\\Lenovo\\AppData\\Local\\Programs\\Python\\Python311\\Lib\\site-packages\\keras\\src\\losses.py:2976: The name tf.losses.sparse_softmax_cross_entropy is deprecated. Please use tf.compat.v1.losses.sparse_softmax_cross_entropy instead.\n",
      "\n"
     ]
    }
   ],
   "source": [
    "import numpy as np\n",
    "import tensorflow as tf\n",
    "from tensorflow.keras.applications import InceptionV3\n",
    "from tensorflow.keras.applications.vgg16 import preprocess_input\n",
    "from scipy.linalg import sqrtm\n",
    "from PIL import Image\n"
   ]
  },
  {
   "cell_type": "code",
   "execution_count": 2,
   "metadata": {},
   "outputs": [],
   "source": [
    "def load_image(image_path,dim1,dim2):\n",
    "    img= Image.open(image_path).resize((dim1,dim2)).convert(\"RGB\")\n",
    "    return np.array(img)"
   ]
  },
  {
   "cell_type": "code",
   "execution_count": 9,
   "metadata": {},
   "outputs": [],
   "source": [
    "from skimage.transform import resize\n",
    "\n",
    "def resize_images(images):\n",
    "    resized_images = []\n",
    "    for img in images:\n",
    "        resized_img = resize(img, (299, 299, 3), anti_aliasing=True)\n",
    "        resized_images.append(resized_img)\n",
    "    return np.array(resized_images)"
   ]
  },
  {
   "cell_type": "code",
   "execution_count": 3,
   "metadata": {},
   "outputs": [
    {
     "name": "stdout",
     "output_type": "stream",
     "text": [
      "WARNING:tensorflow:From c:\\Users\\Lenovo\\AppData\\Local\\Programs\\Python\\Python311\\Lib\\site-packages\\keras\\src\\backend.py:1398: The name tf.executing_eagerly_outside_functions is deprecated. Please use tf.compat.v1.executing_eagerly_outside_functions instead.\n",
      "\n",
      "WARNING:tensorflow:From c:\\Users\\Lenovo\\AppData\\Local\\Programs\\Python\\Python311\\Lib\\site-packages\\keras\\src\\layers\\normalization\\batch_normalization.py:979: The name tf.nn.fused_batch_norm is deprecated. Please use tf.compat.v1.nn.fused_batch_norm instead.\n",
      "\n"
     ]
    }
   ],
   "source": [
    "# Load pre-trained InceptionV3 model\n",
    "inception_model = InceptionV3(weights='imagenet', include_top=False, pooling='avg')\n",
    "\n",
    "# Function to extract features from images using InceptionV3\n",
    "def extract_features(images):\n",
    "    images = preprocess_input(images)\n",
    "    features = inception_model.predict(images)\n",
    "    return features"
   ]
  },
  {
   "cell_type": "code",
   "execution_count": 13,
   "metadata": {},
   "outputs": [],
   "source": [
    "\n",
    "def calculate_fid(real_features, generated_features):\n",
    "    mu_real = np.mean(real_features, axis=0)\n",
    "    mu_generated = np.mean(generated_features, axis=0)\n",
    "    sigma_real = np.cov(real_features, rowvar=False)\n",
    "    sigma_generated = np.cov(generated_features, rowvar=False)\n",
    "    \n",
    "    # Calculate sum of squared differences between means\n",
    "    ssdiff = np.sum((mu_real - mu_generated)**2)\n",
    "    \n",
    "    # Calculate square root of product of covariances\n",
    "    covmean = sqrtm(sigma_real.dot(sigma_generated))\n",
    "    \n",
    "    # Handle complex numbers, if any\n",
    "    if np.iscomplexobj(covmean):\n",
    "        covmean = covmean.real\n",
    "    \n",
    "    # Calculate FID score\n",
    "    fid = ssdiff + np.trace(sigma_real + sigma_generated - 2.0 * covmean)\n",
    "\n",
    "    if fid < 0:\n",
    "        fid = -1*fid\n",
    "    \n",
    "    return fid"
   ]
  },
  {
   "cell_type": "code",
   "execution_count": 10,
   "metadata": {},
   "outputs": [],
   "source": [
    "real_images = \"d:/Study Materials/4-2/paint like any painter/Image_data/photo_jpg/1.jpg\"\n",
    "generated_images = \"d:/Study Materials/4-2/paint like any painter/monet_jpggenerated/1.jpg\"\n",
    "cycle_gan = \"d:/Study Materials/4-2/paint like any painter/generated_images/1.jpg\"\n",
    "# convert to numpy array\n",
    "dim = 299\n",
    "real_images = load_image(real_images,dim,dim)\n",
    "generated_images = load_image(generated_images,dim,dim)\n",
    "cycle_gan = load_image(cycle_gan,dim,dim)\n",
    "\n",
    "# Resize images\n",
    "real_images = resize_images(real_images)\n",
    "generated_images = resize_images(generated_images)\n",
    "cycle_gan = resize_images(cycle_gan)\n"
   ]
  },
  {
   "cell_type": "code",
   "execution_count": 11,
   "metadata": {},
   "outputs": [
    {
     "name": "stdout",
     "output_type": "stream",
     "text": [
      "10/10 [==============================] - 10s 990ms/step\n",
      "10/10 [==============================] - 10s 996ms/step\n",
      "10/10 [==============================] - 10s 994ms/step\n",
      "(299, 2048)\n",
      "(299, 2048)\n",
      "(299, 2048)\n"
     ]
    }
   ],
   "source": [
    "# Calculate FID score\n",
    "real_features= extract_features(real_images)\n",
    "generated_features = extract_features(generated_images)\n",
    "cycle_gan = extract_features(cycle_gan)\n",
    "print(real_features.shape)\n",
    "print(generated_features.shape)\n",
    "print(cycle_gan.shape)\n"
   ]
  },
  {
   "cell_type": "code",
   "execution_count": 14,
   "metadata": {},
   "outputs": [],
   "source": [
    "# reshape the feature arrays\n",
    "fid_score_real_vgg  = calculate_fid(real_features, generated_features)\n",
    "cycle_gan_fid_score = calculate_fid(real_features, cycle_gan)\n",
    "\n"
   ]
  },
  {
   "cell_type": "code",
   "execution_count": 15,
   "metadata": {},
   "outputs": [
    {
     "name": "stdout",
     "output_type": "stream",
     "text": [
      "Real vs VGG FID Score:        1.8788340662190666e+111\n",
      "REAL vs Cycle GAN FID Score:  5.96787883691744e+87\n"
     ]
    }
   ],
   "source": [
    "print(\"Real vs VGG FID Score:       \", fid_score_real_vgg)\n",
    "print(\"REAL vs Cycle GAN FID Score: \", cycle_gan_fid_score)"
   ]
  }
 ],
 "metadata": {
  "kernelspec": {
   "display_name": "Python 3",
   "language": "python",
   "name": "python3"
  },
  "language_info": {
   "codemirror_mode": {
    "name": "ipython",
    "version": 3
   },
   "file_extension": ".py",
   "mimetype": "text/x-python",
   "name": "python",
   "nbconvert_exporter": "python",
   "pygments_lexer": "ipython3",
   "version": "3.11.4"
  },
  "orig_nbformat": 4
 },
 "nbformat": 4,
 "nbformat_minor": 2
}
